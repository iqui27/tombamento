{
 "cells": [
  {
   "cell_type": "code",
   "execution_count": 17,
   "metadata": {},
   "outputs": [],
   "source": [
    "from datetime import datetime\n",
    "from selenium import webdriver\n",
    "from selenium.webdriver.common.by import By\n",
    "from selenium.webdriver.support.ui import WebDriverWait\n",
    "from selenium.webdriver.support import expected_conditions as EC\n",
    "from selenium.webdriver.chrome.options import Options\n",
    "import time\n",
    "\n",
    "def gerar_link_pasta_dodf(data):\n",
    "    \"\"\"\n",
    "    Gera o link da pasta do DODF para uma data específica\n",
    "    \"\"\"\n",
    "    data_obj = datetime.strptime(data, '%d/%m/%Y')\n",
    "    \n",
    "    meses = {\n",
    "        1: 'Janeiro',\n",
    "        2: 'Fevereiro',\n",
    "        3: 'Marco',\n",
    "        4: 'Abril',\n",
    "        5: 'Maio',\n",
    "        6: 'Junho',\n",
    "        7: 'Julho',\n",
    "        8: 'Agosto',\n",
    "        9: 'Setembro',\n",
    "        10: 'Outubro',\n",
    "        11: 'Novembro',\n",
    "        12: 'Dezembro'\n",
    "    }\n",
    "    \n",
    "    ano = data_obj.strftime('%Y')\n",
    "    mes_numero = data_obj.month\n",
    "    mes_nome = meses[mes_numero]\n",
    "    data_formatada = f\"{data_obj.strftime('%d')} {data_obj.strftime('%m')} {data_obj.strftime('%Y')}\"\n",
    "    \n",
    "    return f\"https://dodf.df.gov.br/dodf/jornal/pastas?pasta={ano}/{mes_numero:02d}_{mes_nome}/{data_formatada}\".replace(\" \", \"%20\")\n",
    "\n",
    "def obter_edicoes_do_dia(data):\n",
    "    \"\"\"\n",
    "    Obtém as edições disponíveis para uma data específica usando Selenium\n",
    "    \"\"\"\n",
    "    url = gerar_link_pasta_dodf(data)\n",
    "    \n",
    "    # Configurar opções do Chrome\n",
    "    chrome_options = Options()\n",
    "    chrome_options.add_argument('--headless')  # Executa em modo headless (sem interface gráfica)\n",
    "    chrome_options.add_argument('--no-sandbox')\n",
    "    chrome_options.add_argument('--disable-dev-shm-usage')\n",
    "    \n",
    "    try:\n",
    "        # Iniciar o navegador\n",
    "        driver = webdriver.Chrome(options=chrome_options)\n",
    "        print(f\"Acessando URL: {url}\")\n",
    "        \n",
    "        # Acessar a URL\n",
    "        driver.get(url)\n",
    "        \n",
    "        # Esperar que os elementos sejam carregados (máximo 20 segundos)\n",
    "        wait = WebDriverWait(driver, 20)\n",
    "        elementos = wait.until(\n",
    "            EC.presence_of_all_elements_located((By.CLASS_NAME, \"link-materia\"))\n",
    "        )\n",
    "        \n",
    "        # Dar um tempo extra para garantir que tudo carregou\n",
    "        time.sleep(2)\n",
    "        \n",
    "        # Coletar informações dos PDFs\n",
    "        pdfs = []\n",
    "        elementos = driver.find_elements(By.CLASS_NAME, \"link-materia\")\n",
    "        \n",
    "        for elemento in elementos:\n",
    "            try:\n",
    "                nome = elemento.find_element(By.TAG_NAME, \"p\").text.strip()\n",
    "                link = elemento.get_attribute(\"href\")\n",
    "                pdfs.append({\n",
    "                    'nome': nome,\n",
    "                    'link': link\n",
    "                })\n",
    "            except Exception as e:\n",
    "                print(f\"Erro ao processar elemento: {e}\")\n",
    "        \n",
    "        return pdfs\n",
    "        \n",
    "    except Exception as e:\n",
    "        print(f\"Erro ao acessar a pasta: {e}\")\n",
    "        return None\n",
    "        \n",
    "    finally:\n",
    "        try:\n",
    "            driver.quit()\n",
    "        except:\n",
    "            pass\n",
    "\n"
   ]
  },
  {
   "cell_type": "code",
   "execution_count": 18,
   "metadata": {},
   "outputs": [
    {
     "name": "stdout",
     "output_type": "stream",
     "text": [
      "Buscando edições para 02/01/2024...\n"
     ]
    },
    {
     "name": "stderr",
     "output_type": "stream",
     "text": [
      "Cache folder (/Users/henrique/.cache/selenium) cannot be created: Permission denied (os error 13)\n",
      "Cache folder (/Users/henrique/.cache/selenium) cannot be created: Permission denied (os error 13)\n",
      "Cache folder (/Users/henrique/.cache/selenium) cannot be created: Permission denied (os error 13)\n",
      "Cache folder (/Users/henrique/.cache/selenium) cannot be created: Permission denied (os error 13)\n"
     ]
    },
    {
     "name": "stdout",
     "output_type": "stream",
     "text": [
      "Acessando URL: https://dodf.df.gov.br/dodf/jornal/pastas?pasta=2024/01_Janeiro/02%2001%202024\n",
      "\n",
      "Edições disponíveis para 02/01/2024:\n",
      "\n",
      "Nome: DODF 001 02-01-2024 INTEGRA.pdf\n",
      "Link: https://dodf.df.gov.br/dodf/jornal/visualizar-pdf?pasta=2024|01_Janeiro|DODF%20001%2002-01-2024|&arquivo=DODF%20001%2002-01-2024%20INTEGRA.pdf\n",
      "\n",
      "Nome: DODF 001 02-01-2024 EDICAO EXTRA A.pdf\n",
      "Link: https://dodf.df.gov.br/dodf/jornal/visualizar-pdf?pasta=2024|01_Janeiro|DODF%20001%2002-01-2024%20EDICAO%20EXTRA%20A|&arquivo=DODF%20001%2002-01-2024%20EDICAO%20EXTRA%20A.pdf\n"
     ]
    },
    {
     "name": "stderr",
     "output_type": "stream",
     "text": [
      "/var/folders/fj/821tv6qn54xbnrgw2tjk7jf00000gn/T/ipykernel_59708/2578908412.py:73: DeprecationWarning: using WebElement.get_attribute() has been deprecated. Please use get_dom_attribute() instead.\n",
      "  link = elemento.get_attribute(\"href\")\n"
     ]
    }
   ],
   "source": [
    "# Exemplo de uso\n",
    "def main():\n",
    "    data = \"02/01/2024\"\n",
    "    print(f\"Buscando edições para {data}...\")\n",
    "    \n",
    "    edicoes = obter_edicoes_do_dia(data)\n",
    "    \n",
    "    if edicoes:\n",
    "        print(f\"\\nEdições disponíveis para {data}:\")\n",
    "        for edicao in edicoes:\n",
    "            print(f\"\\nNome: {edicao['nome']}\")\n",
    "            print(f\"Link: {edicao['link']}\")\n",
    "    else:\n",
    "        print(f\"\\nNão foi possível obter as edições para {data}\")\n",
    "\n",
    "if __name__ == \"__main__\":\n",
    "    main()"
   ]
  }
 ],
 "metadata": {
  "kernelspec": {
   "display_name": "Python 3",
   "language": "python",
   "name": "python3"
  },
  "language_info": {
   "codemirror_mode": {
    "name": "ipython",
    "version": 3
   },
   "file_extension": ".py",
   "mimetype": "text/x-python",
   "name": "python",
   "nbconvert_exporter": "python",
   "pygments_lexer": "ipython3",
   "version": "3.12.2"
  }
 },
 "nbformat": 4,
 "nbformat_minor": 2
}
